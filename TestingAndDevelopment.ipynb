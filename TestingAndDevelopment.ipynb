{
 "cells": [
  {
   "cell_type": "markdown",
   "metadata": {},
   "source": [
    "# This notebook is primarily a testing ground used while developing new functionality. Some examples of how to use the functions can be found here, but the notebook is not intended as guide/documentation"
   ]
  },
  {
   "cell_type": "code",
   "execution_count": null,
   "metadata": {},
   "outputs": [],
   "source": [
    "import numpy as np \n",
    "import pandas as pd\n",
    "\n",
    "import ExcessMortalityFunctions as emf\n",
    "from importlib import reload\n",
    "reload(emf)\n",
    "\n",
    "from scipy.stats import poisson\n",
    "\n",
    "import matplotlib.pyplot as plt\n",
    "\n",
    "\n",
    "# import sys\n",
    " \n",
    "# # setting path\n",
    "# sys.path.append('../Functions')\n",
    "# import PandemiXSignaturesForSubfolders as ps"
   ]
  },
  {
   "cell_type": "markdown",
   "metadata": {},
   "source": [
    "# Generate dataset for testing with large numbers"
   ]
  },
  {
   "cell_type": "code",
   "execution_count": null,
   "metadata": {},
   "outputs": [],
   "source": [
    "# Generate some data for testing\n",
    "d1 = np.datetime64('1850-01-01')\n",
    "d2 = np.datetime64('1870-01-01')\n",
    "ts = np.arange(d1,d2)\n",
    "\n",
    "# Constant\n",
    "curMean = 50 \n",
    "curBase = poisson.rvs(curMean,size = len(ts))\n",
    "curBase = curMean * np.ones(len(ts))\n",
    "\n",
    "# Linearly increasing\n",
    "curMean2 = 100\n",
    "allMeans = np.linspace(curMean,curMean2,len(ts))\n",
    "curBase2 = poisson.rvs(allMeans,size = len(ts))\n",
    "\n",
    "# Sinusoidal\n",
    "tDays = (ts -ts[0])/np.timedelta64(1,'D')\n",
    "sinAmp = 100\n",
    "sinPer = 2*np.pi/365.25\n",
    "# curBase3 = np.round(poisson.rvs(curMean,size = len(ts)) + sinAmp * np.sin(tDays * sinPer))\n",
    "curBase3 = np.round(poisson.rvs(curMean,size = len(ts)) + sinAmp * np.sin(tDays * sinPer) + sinAmp/2)\n",
    "\n",
    "\n",
    "# Sinusoidal and linear\n",
    "tDays = (ts -ts[0])/np.timedelta64(1,'D')\n",
    "sinAmp = 10\n",
    "sinPer = 2*np.pi/365.25\n",
    "curBase4 = np.round(poisson.rvs(allMeans,size = len(ts)) + sinAmp * np.sin(tDays * sinPer))\n",
    "\n",
    "# Plot\n",
    "fig,ax = plt.subplots()\n",
    "ax.plot(ts,curBase)\n",
    "ax.plot(ts,curBase2)\n",
    "ax.plot(ts,curBase3)\n",
    "ax.plot(ts,curBase4)\n"
   ]
  },
  {
   "cell_type": "code",
   "execution_count": null,
   "metadata": {},
   "outputs": [],
   "source": [
    "\n",
    "df = pd.DataFrame(\n",
    "    index = ts,\n",
    "    data={\n",
    "        'Base':curBase,\n",
    "        'Base2':curBase2,\n",
    "        'Base3':curBase3,\n",
    "        'Base4':curBase4,\n",
    "        }\n",
    ")\n",
    "\n",
    "# df.plot()\n"
   ]
  },
  {
   "cell_type": "markdown",
   "metadata": {},
   "source": [
    "# fft test"
   ]
  },
  {
   "cell_type": "code",
   "execution_count": null,
   "metadata": {},
   "outputs": [],
   "source": [
    "%matplotlib widget\n",
    "\n"
   ]
  },
  {
   "cell_type": "code",
   "execution_count": null,
   "metadata": {},
   "outputs": [],
   "source": [
    "\n",
    "tDays = (ts -ts[0])/np.timedelta64(1,'D')\n",
    "curMean = 2\n",
    "sinAmp = 1\n",
    "sinPer = 2*np.pi/365.25\n",
    "# curBase3 = np.round(poisson.rvs(curMean,size = len(ts)) + sinAmp * np.sin(tDays * sinPer))\n",
    "# curBase3 = np.round(poisson.rvs(curMean,size = len(ts)) + sinAmp * np.sin(tDays * sinPer) + sinAmp/2)\n",
    "curBase3 = np.round(poisson.rvs(curMean + sinAmp * np.sin(tDays * sinPer) + sinAmp/2,size = len(ts)))\n",
    "\n",
    "# curData = df.Base3.values \n",
    "# curTs = (ts-ts[0])/np.timedelta64(1,'D')\n",
    "curData = curBase3[:2000]\n",
    "curTs = tDays[:2000]\n",
    "\n",
    "sampFreq = 1\n",
    "\n",
    "curfft = np.fft.fft(curData)/len(curData)\n",
    "\n",
    "# # curfft\n",
    "curfft = curfft[range(int(len(curData)/2))]\n",
    "\n",
    "tpCount = len(curData)\n",
    "values = np.arange(int(tpCount/2))\n",
    "timeP = tpCount/sampFreq  \n",
    "freqs = values/timeP\n",
    "\n",
    "\n",
    "\n",
    "fig,(ax,ax2) = plt.subplots(2,1)\n",
    "\n",
    "ax.plot(curTs,curData)\n",
    "ax2.plot(1/freqs,np.abs(curfft))\n",
    "ax2.set_xlim([0,600])\n",
    "# np.abs(curfft)"
   ]
  },
  {
   "cell_type": "code",
   "execution_count": null,
   "metadata": {},
   "outputs": [],
   "source": [
    "\n",
    "# ax.plot(df.Base3)\n",
    "\n",
    "curData = df.Base3.values \n",
    "# testDays = np.arange(200)\n",
    "# testDays = np.linspace(0,200,1000)\n",
    "# testDays = np.linspace(0,10,1000)\n",
    "tEnd = 360*30\n",
    "sampFreq = 1\n",
    "\n",
    "testDays = np.arange(0,tEnd,1/sampFreq)\n",
    "freq1 = 1/360\n",
    "freq2 = 1/30\n",
    "\n",
    "curData = ( 0.9* np.sin(testDays * 2 *np.pi * freq1) + 0.1* np.sin(testDays * 2 *np.pi * freq2))\n",
    "curfft = np.fft.fft(curData)/len(curData)\n",
    "\n",
    "# curfft\n",
    "curfft = curfft[range(int(len(curData)/2))]\n",
    "\n",
    "tpCount = len(curData)\n",
    "values = np.arange(int(tpCount/2))\n",
    "timeP = tpCount/sampFreq  \n",
    "freqs = values/timeP\n",
    "\n",
    "# \n",
    "fig,(ax,ax2) = plt.subplots(2,1)\n",
    "ax.plot(testDays,curData)  \n",
    "ax.plot(testDays,np.sin(testDays * 2 *np.pi * freq1),lw=.1)\n",
    "ax.plot(testDays,np.sin(testDays * 2 *np.pi * freq2),lw=.1)\n",
    "\n",
    "# ax.set_xlim([0,2])\n",
    "# sinPer\n",
    "ax2.plot(1/freqs,np.abs(curfft))\n"
   ]
  },
  {
   "cell_type": "code",
   "execution_count": null,
   "metadata": {},
   "outputs": [],
   "source": []
  },
  {
   "cell_type": "markdown",
   "metadata": {},
   "source": [
    "# Serfling model tests"
   ]
  },
  {
   "cell_type": "code",
   "execution_count": null,
   "metadata": {},
   "outputs": [],
   "source": [
    "# curData = df.Base3\n",
    "# monData = emf.groupByMonth(curData)\n",
    "\n",
    "# fig,ax = plt.subplots()\n",
    "# ax.plot(monData)"
   ]
  },
  {
   "cell_type": "code",
   "execution_count": null,
   "metadata": {},
   "outputs": [],
   "source": []
  },
  {
   "cell_type": "markdown",
   "metadata": {},
   "source": [
    "# Test "
   ]
  },
  {
   "cell_type": "code",
   "execution_count": null,
   "metadata": {},
   "outputs": [],
   "source": [
    "ys = np.arange(\n",
    "    np.datetime64('1850'),\n",
    "    np.datetime64('1880'),\n",
    ")\n",
    "dfTest = pd.DataFrame(\n",
    "    index=ys,\n",
    "    data={\n",
    "        'Base':10000 * np.ones(len(ys))\n",
    "    }\n",
    ")\n",
    "# dfTest\n"
   ]
  },
  {
   "cell_type": "code",
   "execution_count": null,
   "metadata": {},
   "outputs": [],
   "source": [
    "dfTest.iloc[14] = np.nan \n",
    "dfTest"
   ]
  },
  {
   "cell_type": "code",
   "execution_count": null,
   "metadata": {},
   "outputs": [],
   "source": [
    "reload(emf)"
   ]
  },
  {
   "cell_type": "code",
   "execution_count": null,
   "metadata": {},
   "outputs": [],
   "source": [
    "\n",
    "curData = dfTest.Base\n",
    "curData = df.Base\n",
    "numYears = 5\n",
    "# # curMean,curStd = emf.rnMean(curData,numYears = numYears,timeResolution='Year')\n",
    "\n",
    "# pdSeries = curData \n",
    "# serYear = pdSeries.groupby(pdSeries.index.year.rename('Year')).sum(min_count=1)\n",
    "# serYear\n",
    "# # pdSeries\n",
    "# # pdSeries.groupby(pdSeries.index.year.rename('Year'))\n"
   ]
  },
  {
   "cell_type": "code",
   "execution_count": null,
   "metadata": {},
   "outputs": [],
   "source": [
    "\n",
    "\n",
    "# curRolling = serYear.rolling(window=(numYears*2)+1,center=True,min_periods=1)\n",
    "# curSum = curRolling.sum()\n",
    "# curCount = curRolling.count()\n",
    "\n",
    "# # curCount = (curCount + serYear.isna() * 1) \n",
    "# # serYear.rolling(window=11,center=True,min_periods=1).count()\n",
    "\n",
    "# curMean = (curSum - serYear.fillna(0))/(curCount-serYear.notna()*1)\n",
    "\n",
    "# # curMean\n",
    "# # curCount\n",
    "# # curSum - serYear.fillna(0)\n",
    "# # curCount-1\n",
    "# # (curCount + serYear.isna() * 1) - 1\n",
    "# # curMean\n",
    "# # curSum\n",
    "# # serYear.notna()*1\n",
    "\n",
    "# # Reshape pivottables into series\n",
    "# curMean = curMean.reset_index()\n",
    "# curMean['Date'] = pd.to_datetime(dict(year=curMean.Year,month=np.ones(len(curMean.Year)),day=np.ones(len(curMean.Year))))\n",
    "# curMean = curMean.sort_values('Date').set_index('Date').drop(columns=['Year']).rename(columns={'value':'Baseline'}).iloc[:,0]"
   ]
  },
  {
   "cell_type": "code",
   "execution_count": null,
   "metadata": {},
   "outputs": [],
   "source": [
    "\n",
    "curData = dfTest.Base\n",
    "curData = df.Base3\n",
    "\n",
    "curData = emf.removeLeapDays(curData)\n",
    "\n",
    "curMean,curStd = emf.rnMean(curData,numYears = 5,timeResolution='Year')\n",
    "\n",
    "curData = emf.groupByYear(curData)"
   ]
  },
  {
   "cell_type": "code",
   "execution_count": null,
   "metadata": {},
   "outputs": [],
   "source": [
    "# fig,ax = plt.subplots()\n",
    "# ax.plot(df.Base3)"
   ]
  },
  {
   "cell_type": "code",
   "execution_count": null,
   "metadata": {},
   "outputs": [],
   "source": [
    "\n",
    "fig,ax = plt.subplots()\n",
    "ax.plot(curMean,'k')\n",
    "ax.plot(curData,'b.-',lw=0.4)\n",
    "ax.plot(curMean+curStd)"
   ]
  },
  {
   "cell_type": "markdown",
   "metadata": {},
   "source": [
    "# Tests with outliers below"
   ]
  },
  {
   "cell_type": "code",
   "execution_count": null,
   "metadata": {},
   "outputs": [],
   "source": [
    "reload(emf)\n",
    "%matplotlib widget\n",
    "numYears = 12"
   ]
  },
  {
   "cell_type": "code",
   "execution_count": null,
   "metadata": {},
   "outputs": [],
   "source": [
    "dfOut = df.copy()\n",
    "\n",
    "len(dfOut)\n",
    "indexToIncrease = np.random.randint(0,len(dfOut),100)\n",
    "\n",
    "dfOut.iloc[indexToIncrease,:] = dfOut.iloc[indexToIncrease,:]*4\n",
    "# dfOut"
   ]
  },
  {
   "cell_type": "code",
   "execution_count": null,
   "metadata": {},
   "outputs": [],
   "source": [
    "# curData = dfOut.Base4\n",
    "# curMean,curStd = emf.rnMean(curData,numYears = 12,timeResolution='Month')\n",
    "# curData = emf.groupByMonth(curData)\n",
    "\n",
    "curData = dfOut.Base3\n",
    "curData = curData.rolling(window=7,center=True).mean()\n",
    "\n",
    "# fig,ax = plt.subplots()\n",
    "# ax.plot(curData,'.-',ms=2,color='b',lw=0.5)\n",
    "numYears = 5\n",
    "curMean,curStd = emf.rnMean(curData,numYears = numYears,timeResolution='Day')\n",
    "\n"
   ]
  },
  {
   "cell_type": "code",
   "execution_count": null,
   "metadata": {},
   "outputs": [],
   "source": [
    "curExc,curZsc = emf.getExcessAndZscore(curData,curMean,curStd)"
   ]
  },
  {
   "cell_type": "code",
   "execution_count": null,
   "metadata": {},
   "outputs": [],
   "source": [
    "fig,axs = plt.subplots(3,1,figsize=(8,6),sharex=True)\n",
    "ax1,ax2,ax3 = axs \n",
    "ax1.plot(curMean,color='k')\n",
    "ax1.plot(curData,'.-',ms=2,color='b',lw=0.5)\n",
    "\n",
    "ax1.fill_between(curData.index,curMean-3*curStd,curMean+3*curStd,color='xkcd:light grey')\n",
    "ax1.fill_between(curData.index,curMean-2*curStd,curMean+2*curStd,color='xkcd:grey')\n",
    "ax1.fill_between(curData.index,curMean-curStd,curMean+curStd,color='xkcd:dark grey')\n",
    "\n",
    "\n",
    "ax2.axhline(0,color='k')\n",
    "ax2.plot(curExc,'.-',ms=2,color='b',lw=0.5)\n",
    "ax2.fill_between(curData.index,-3*curStd,+3*curStd,color='xkcd:light grey')\n",
    "ax2.fill_between(curData.index,-2*curStd,+2*curStd,color='xkcd:grey')\n",
    "ax2.fill_between(curData.index,-curStd,+curStd,color='xkcd:dark grey')\n",
    "\n",
    "\n",
    "ax3.axhline(0,color='k')\n",
    "ax3.plot(curZsc,'.-',ms=2,color='b',lw=0.5)\n",
    "ax3.fill_between(curData.index,-3*np.ones(curStd.shape),+3*np.ones(curStd.shape),color='xkcd:light grey')\n",
    "ax3.fill_between(curData.index,-2*np.ones(curStd.shape),+2*np.ones(curStd.shape),color='xkcd:grey')\n",
    "ax3.fill_between(curData.index,-np.ones(curStd.shape),+np.ones(curStd.shape),color='xkcd:dark grey')\n",
    "\n",
    "\n",
    "\n",
    "# ax1.set_xlim([\n",
    "#     np.datetime64('1865-01-01'),\n",
    "#     np.datetime64('1870-01-01')\n",
    "# ])\n",
    "# ax1.plot(curData.loc[curZsc[curZsc > 2].index],'*m')\n",
    "# ax1.plot(curData.loc[curZsc[curZsc > 3].index],'*r')"
   ]
  },
  {
   "cell_type": "code",
   "execution_count": null,
   "metadata": {},
   "outputs": [],
   "source": [
    "curZscoreThreshold = 3\n",
    "\n",
    "curDataRemove = curData.copy()\n",
    "curDataRemove.loc[curZsc[curZsc > curZscoreThreshold].index] = np.nan \n",
    "\n",
    "# print((curZsc > curZscoreThreshold).sum())\n",
    "numOutside = (curZsc > curZscoreThreshold).sum()\n",
    "print(numOutside)"
   ]
  },
  {
   "cell_type": "code",
   "execution_count": null,
   "metadata": {},
   "outputs": [],
   "source": [
    "reload(emf)"
   ]
  },
  {
   "cell_type": "code",
   "execution_count": null,
   "metadata": {},
   "outputs": [],
   "source": [
    "curData = dfOut.Base4.copy()\n",
    "# curData = curData.rolling(window=7,center=True).mean()\n",
    "curDataRaw = curData.copy()"
   ]
  },
  {
   "cell_type": "code",
   "execution_count": null,
   "metadata": {},
   "outputs": [],
   "source": [
    "numYears = 12"
   ]
  },
  {
   "cell_type": "code",
   "execution_count": null,
   "metadata": {},
   "outputs": [],
   "source": [
    "\n",
    "# fig,(ax,ax2) = plt.subplots(2,1,sharex=True,sharey=True)\n",
    "# ax.plot(curData)\n",
    "# curMean,curStd = emf.rnMean(curData,numYears=numYears,timeResolution='Day')\n",
    "# ax.fill_between(curMean.index,curMean - 2* curStd,curMean + 2* curStd,color='xkcd:light grey')\n",
    "# ax.fill_between(curMean.index,curMean - curStd,curMean + curStd,color='xkcd:grey')\n",
    "# ax.plot(curMean,'k')\n",
    "\n",
    "# curData,curMean,curStd = emf.removeAboveThresholdAndRecalculateRepeat(curData,curMean,curStd,ZscoreThreshold=2,numYears=numYears,timeResolution='Day')\n",
    "# ax2.plot(curData)\n",
    "# ax2.fill_between(curMean.index,curMean - 2* curStd,curMean + 2* curStd,color='xkcd:light grey')\n",
    "# ax2.fill_between(curMean.index,curMean - curStd,curMean + curStd,color='xkcd:grey')\n",
    "# ax2.plot(curMean,'k')"
   ]
  },
  {
   "cell_type": "code",
   "execution_count": null,
   "metadata": {},
   "outputs": [],
   "source": [
    "\n",
    "fig,(ax,ax2) = plt.subplots(2,1,sharex=True,sharey=True)\n",
    "curMean,curStd = emf.rnMean(curData,numYears=numYears,timeResolution='Day')\n",
    "curExc,curZsc = emf.getExcessAndZscore(curData,curMean,curStd)\n",
    "ax.plot(curZsc)\n",
    "ax.fill_between(curMean.index,- 2* np.ones(curStd.shape),+ 2* np.ones(curStd.shape),color='xkcd:light grey')\n",
    "ax.fill_between(curMean.index,- np.ones(curStd.shape),+ np.ones(curStd.shape),color='xkcd:grey')\n",
    "# ax.plot(curMean,'k')\n",
    "ax.plot(curZsc.iloc[indexToIncrease],'*')\n",
    "\n",
    "curData,curMean,curStd = emf.removeAboveThresholdAndRecalculateRepeat(curData,curMean,curStd,ZscoreThreshold=2,numYears=numYears,timeResolution='Day')\n",
    "curExc,curZsc = emf.getExcessAndZscore(curData,curMean,curStd)\n",
    "ax2.plot(curZsc)\n",
    "ax2.fill_between(curMean.index,- 2* np.ones(curStd.shape),+ 2* np.ones(curStd.shape),color='xkcd:light grey')\n",
    "ax2.fill_between(curMean.index,- np.ones(curStd.shape),+ np.ones(curStd.shape),color='xkcd:grey')\n",
    "# ax2.plot(curMean,'k')\n",
    "\n",
    "ax2.plot(curZsc.iloc[indexToIncrease],'*')"
   ]
  },
  {
   "cell_type": "code",
   "execution_count": null,
   "metadata": {},
   "outputs": [],
   "source": [
    "\n",
    "fig,ax = plt.subplots()\n",
    "ax.plot(curData)\n",
    "curMean,curStd = emf.rnMean(curData,numYears=numYears,timeResolution='Day')\n",
    "\n",
    "for k in range(6):\n",
    "    curData,curMean,curStd = emf.removeAboveThresholdAndRecalculate(curData,curMean,curStd,ZscoreThreshold=3,numYears=numYears,timeResolution='Day')\n",
    "    ax.plot(curData,'.-')"
   ]
  },
  {
   "cell_type": "code",
   "execution_count": null,
   "metadata": {},
   "outputs": [],
   "source": [
    "curDataRemove = emf.removeAboveThreshold(curData,curMean,curStd,ZscoreThreshold=3)\n",
    "\n",
    "fig,ax = plt.subplots()\n",
    "ax.plot(curData)\n",
    "ax.plot(curDataRemove,'.-')"
   ]
  },
  {
   "cell_type": "code",
   "execution_count": null,
   "metadata": {},
   "outputs": [],
   "source": [
    "\n",
    "while numOutside > 0:\n",
    "\n",
    "    curMeanRemove,curStdRemove = emf.rnMean(curDataRemove,numYears = numYears,timeResolution='Day')\n",
    "    curExcRemove,curZscRemove = emf.getExcessAndZscore(curDataRemove,curMeanRemove,curStdRemove)\n",
    "    # curExcRemove,curZscRemove = emf.getExcessAndZscore(curData,curMeanRemove,curStdRemove)\n",
    "\n",
    "    curDataRemove.loc[curZscRemove[curZscRemove > curZscoreThreshold].index] = np.nan \n",
    "    numOutside = (curZscRemove > curZscoreThreshold).sum()\n",
    "\n",
    "\n",
    "    # print((curZscRemove > curZscoreThreshold).sum())\n",
    "    print(numOutside)"
   ]
  },
  {
   "cell_type": "code",
   "execution_count": null,
   "metadata": {},
   "outputs": [],
   "source": [
    "fig,(ax,ax2) = plt.subplots(2,1,sharex=True,sharey=True)\n",
    "ax.plot(curMean,color='k')\n",
    "ax2.plot(curMeanRemove,color='r')\n",
    "# ax.plot(curDataRemove,'.-',ms=2,color='g',lw=0.5)\n",
    "ax.plot(curData,'.-',ms=2,color='b',lw=0.5)\n",
    "ax.plot(curDataRemove,'.-',ms=2,color='g',lw=0.5)\n",
    "ax2.plot(curData,'.-',ms=2,color='b',lw=0.5)\n",
    "\n",
    "# ax.plot(curMean + curStd,'m',lw=1)\n",
    "# ax.plot(curMeanRemove + curStdRemove,'g',lw=1)\n",
    "\n",
    "ax.fill_between(curData.index,curMean-3*curStd,curMean+3*curStd,color='xkcd:light grey')\n",
    "ax.fill_between(curData.index,curMean-2*curStd,curMean+2*curStd,color='xkcd:grey')\n",
    "ax.fill_between(curData.index,curMean-1*curStd,curMean+1*curStd,color='xkcd:dark grey')\n",
    "\n",
    "ax2.fill_between(curData.index,curMeanRemove-3*curStdRemove,curMeanRemove+3*curStdRemove,color='xkcd:light grey')\n",
    "ax2.fill_between(curData.index,curMeanRemove-2*curStdRemove,curMeanRemove+2*curStdRemove,color='xkcd:grey')\n",
    "ax2.fill_between(curData.index,curMeanRemove-1*curStdRemove,curMeanRemove+1*curStdRemove,color='xkcd:dark grey')"
   ]
  },
  {
   "cell_type": "code",
   "execution_count": null,
   "metadata": {},
   "outputs": [],
   "source": [
    "\n",
    "# # Add columns for year, month and day\n",
    "# curFrame = dfOut.Base.to_frame()\n",
    "# curFrame['Year'] = curFrame.index.year \n",
    "# curFrame['Month'] = curFrame.index.month\n",
    "# curFrame['Day'] = curFrame.index.day\n",
    "\n",
    "# # Organize as pivot-table (with multi-columns)\n",
    "# curPivot = curFrame.pivot_table(values=dfOut.Base.name,columns=['Month','Day'],index='Year')\n",
    "# curPivot"
   ]
  },
  {
   "cell_type": "code",
   "execution_count": null,
   "metadata": {},
   "outputs": [],
   "source": [
    "\n",
    "# # Add columns for year, month and day\n",
    "# curFrame = curData.to_frame()\n",
    "# curFrame['Year'] = curFrame.index.year \n",
    "# curFrame['Month'] = curFrame.index.month\n",
    "# curFrame['Day'] = curFrame.index.day\n",
    "\n",
    "# # Organize as pivot-table (with multi-columns)\n",
    "# curPivot = curFrame.pivot_table(values=curData.name,columns=['Month','Day'],index='Year')\n",
    "# curPivot"
   ]
  },
  {
   "cell_type": "code",
   "execution_count": null,
   "metadata": {},
   "outputs": [],
   "source": []
  },
  {
   "cell_type": "code",
   "execution_count": null,
   "metadata": {},
   "outputs": [],
   "source": [
    "\n",
    "# curDataRemoveNoRoll = dfOut.Base\n",
    "# curDataRemove = curDataRemoveNoRoll.copy()\n",
    "# curDataRemove = curDataRemove.rolling(window=7,center=True).mean()\n",
    "\n",
    "numYears = 5\n",
    "# Add columns for year, month and day\n",
    "curFrame = curDataRemove.to_frame()\n",
    "curFrame['Year'] = curFrame.index.year \n",
    "curFrame['Month'] = curFrame.index.month\n",
    "curFrame['Day'] = curFrame.index.day\n",
    "\n",
    "# Organize as pivot-table (with multi-columns)\n",
    "curPivot = curFrame.pivot_table(values=curDataRemove.name,columns=['Month','Day'],index='Year')\n",
    "# curPivot\n",
    "\n",
    "\n",
    "# Calculate sum of surrounding years and current year\n",
    "curRolling = curPivot.rolling(window=(numYears*2)+1,center=True,min_periods=1)\n",
    "curSum = curRolling.sum()\n",
    "curCount = curRolling.count()\n",
    "# Calculate mean of surrounding years by subtracting the current year and dividing by the number of surrounding years\n",
    "curMean = (curSum - curPivot.fillna(0))/(curCount-1)\n",
    "# curSum\n",
    "# curCount-1\n",
    "\n",
    "# Calculate the sum of squares of surrounding years and current year\n",
    "curRollingSqr = curPivot.pow(2).rolling(window=(numYears*2)+1,center=True,min_periods=1)\n",
    "curSumSqr = curRollingSqr.sum()\n",
    "curMeanSqr = (curSumSqr - curPivot.pow(2).fillna(0))/(curCount-1)\n",
    "\n",
    "\n",
    "# curSumSqr = curPivot.pow(2).rolling(window=(numYears*2)+1,center=True).sum()\n",
    "# curMeanSqr = (curSumSqr - curPivot.pow(2))/(numYears*2)\n",
    "\n",
    "# Calculate emperical standard deviation \n",
    "curStd = (curMeanSqr - curMean.pow(2).fillna(0)).pow(0.5)\n",
    "\n",
    "curStd\n",
    "curSumSqr - curPivot.pow(2).fillna(0)\n",
    "# curCount\n",
    "curMeanSqr"
   ]
  },
  {
   "cell_type": "code",
   "execution_count": null,
   "metadata": {},
   "outputs": [],
   "source": [
    "# curPivot\n",
    "# curCount -1\n",
    "# curSum - curPivot.fillna(0)\n",
    "# curSumSqr - curPivot.pow(2).fillna(0)\n",
    "# curMeanSqr\n",
    "# curMeanSqr - curMean.pow(2).fillna(0)\n",
    "# curMean\n",
    "# curCount\n",
    "\n",
    "# curPivot"
   ]
  },
  {
   "cell_type": "code",
   "execution_count": null,
   "metadata": {},
   "outputs": [],
   "source": [
    "numYears = 5\n",
    "# Add columns for year, month and day\n",
    "curFrame = curDataRemove.to_frame()\n",
    "curFrame['Year'] = curFrame.index.year \n",
    "curFrame['Month'] = curFrame.index.month\n",
    "curFrame['Day'] = curFrame.index.day\n",
    "\n",
    "# Organize as pivot-table (with multi-columns)\n",
    "curPivot = curFrame.pivot_table(values=curDataRemove.name,columns=['Month','Day'],index='Year')\n",
    "curPivot\n",
    "\n",
    "# Calculate sum of surrounding years and current year\n",
    "curRolling = curPivot.rolling(window=(numYears*2)+1,center=True,min_periods=1)\n",
    "curSum = curRolling.sum()\n",
    "curCount = curRolling.count()\n",
    "# Calculate mean of surrounding years by subtracting the current year and dividing by the number of surrounding years\n",
    "curMean = (curSum - curPivot.fillna(0))/(curCount-1)\n",
    "# curMean = (curSum - curPivot)/(numYears*2)\n",
    "\n",
    "# Calculate the sum of squares of surrounding years and current year\n",
    "curRollingSqr = curPivot.pow(2).rolling(window=(numYears*2)+1,center=True,min_periods=1)\n",
    "curSumSqr = curRollingSqr.sum()\n",
    "curMeanSqr = (curSumSqr - curPivot.pow(2).fillna(0))/(curCount-1)\n",
    "\n",
    "\n",
    "# curSumSqr = curPivot.pow(2).rolling(window=(numYears*2)+1,center=True).sum()\n",
    "# curMeanSqr = (curSumSqr - curPivot.pow(2))/(numYears*2)\n",
    "\n",
    "# Calculate emperical standard deviation \n",
    "curStd = (curMeanSqr - curMean.pow(2).fillna(0)).pow(0.5)\n",
    "\n",
    "# curPivot.rolling(window=(numYears*2)+1,center=True,min_periods=numYears).count()\n",
    "# curSum/curCount\n",
    "# curRolling.mean()\n",
    "# curCount\n",
    "# curMean\n",
    "\n",
    "# curPivot\n",
    "# curSum - curPivot.fillna(0)\n",
    "\n",
    "# curRollingSqr.sum()\n",
    "# curMeanSqr - curM \n",
    "# curMeanScurMean.pow(2)\n",
    "# curStd\n",
    "curMeanSqr - curMean.pow(2).fillna(0)\n",
    "\n",
    "curCount "
   ]
  },
  {
   "cell_type": "code",
   "execution_count": null,
   "metadata": {},
   "outputs": [],
   "source": [
    "\n",
    "# For leap days, use the average of February 28th and March 1st (Leap-days in non-leap-years will be removed below anyways)\n",
    "curMean.loc[:,(2,29)] = (curMean.loc[:,(2,28)] + curMean.loc[:,(3,1)])/2\n",
    "curStd.loc[:,(2,29)] = (curStd.loc[:,(2,28)] + curStd.loc[:,(3,1)])/2\n",
    "\n",
    "# Reshape pivottables into series\n",
    "curMean = curMean.reset_index().melt(id_vars='Year') # Melt pivottable\n",
    "curMean['Date'] = pd.to_datetime(dict(year=curMean.Year,month=curMean.Month,day=curMean.Day),errors='coerce') # Make a date-columns (coerce \"false\" leap-days to NaT, i.e. in non-leap years)\n",
    "curMean = curMean.sort_values('Date').set_index('Date').drop(columns=['Year','Month','Day']).rename(columns={'value':'Baseline'}).iloc[:,0] # Sort by date and drop extra columns\n",
    "curMean = curMean.loc[curMean.index.notna()] # Remove invalid dates (leap-days in not leap-years)\n",
    "\n",
    "curStd = curStd.reset_index().melt(id_vars='Year') # Melt pivottable\n",
    "curStd['Date'] = pd.to_datetime(dict(year=curStd.Year,month=curStd.Month,day=curStd.Day),errors='coerce') # Make a date-columns (coerce \"false\" leap-days to NaT, i.e. in non-leap years)\n",
    "curStd = curStd.sort_values('Date').set_index('Date').drop(columns=['Year','Month','Day']).rename(columns={'value':'StandardDeviation'}).iloc[:,0] # Sort by date and drop extra columns\n",
    "curStd = curStd.loc[curStd.index.notna()] # Remove invalid dates (leap-days in not leap-years)\n",
    "\n"
   ]
  },
  {
   "cell_type": "code",
   "execution_count": null,
   "metadata": {},
   "outputs": [],
   "source": [
    "curStdRemove.loc[np.datetime64('1870-02-21'):].iloc[:20]\n",
    "# curMeanRemove.loc[np.datetime64('1870-02-21'):].iloc[:20]\n",
    "curMean.loc[np.datetime64('1870-02-21'):].iloc[:20]\n",
    "curStd.loc[np.datetime64('1870-02-21'):].iloc[:20]"
   ]
  },
  {
   "cell_type": "code",
   "execution_count": null,
   "metadata": {},
   "outputs": [],
   "source": [
    "fig,ax = plt.subplots()\n",
    "ax.plot(curMean,color='k')\n",
    "ax.plot(curMeanRemove,color='r')\n",
    "ax.plot(curData,'.-',ms=2,color='b',lw=0.5)\n",
    "\n",
    "ax.plot(curMean + curStd,'m')\n",
    "ax.plot(curMeanRemove + curStdRemove,'g')\n",
    "\n",
    "# ax.fill_between(curData.index,curMeanRemove-3*curStdRemove,curMeanRemove+3*curStdRemove,color='xkcd:light grey')"
   ]
  },
  {
   "cell_type": "code",
   "execution_count": null,
   "metadata": {},
   "outputs": [],
   "source": [
    "# pdSeries = dfOut.Base4\n",
    "\n",
    "# pdSeriesRoll = pdSeries.rolling(window=7,center=True).mean()\n",
    "\n",
    "# fig,ax = plt.subplots()\n",
    "# ax.plot(pdSeries)\n",
    "# ax.plot(pdSeriesRoll)"
   ]
  },
  {
   "cell_type": "code",
   "execution_count": null,
   "metadata": {},
   "outputs": [],
   "source": [
    "pdSeries = dfOut.Base4\n",
    "\n",
    "# pdSeries = pdSeries.rolling(window=7,center=True).mean()\n",
    "\n",
    "# Add columns for year, month and day\n",
    "curFrame = pdSeries.to_frame()\n",
    "curFrame['Year'] = curFrame.index.year \n",
    "curFrame['Month'] = curFrame.index.month\n",
    "curFrame['Day'] = curFrame.index.day\n",
    "\n",
    "# Organize as pivot-table (with multi-columns)\n",
    "curPivot = curFrame.pivot_table(values=pdSeries.name,columns=['Month','Day'],index='Year')\n",
    "\n",
    "# Calculate sum of surrounding years and current year\n",
    "curSum = curPivot.rolling(window=(numYears*2)+1,center=True).sum()\n",
    "# Calculate mean of surrounding years by subtracting the current year and dividing by the number of surrounding years\n",
    "curMean = (curSum - curPivot)/(numYears*2)\n",
    "\n",
    "# Calculate the sum of squares of surrounding years and current year\n",
    "curSumSqr = curPivot.pow(2).rolling(window=(numYears*2)+1,center=True).sum()\n",
    "curMeanSqr = (curSumSqr - curPivot.pow(2))/(numYears*2)\n",
    "\n",
    "# Calculate emperical standard deviation \n",
    "curStd = (curMeanSqr - curMean.pow(2)).pow(0.5)\n",
    "\n",
    "# For leap days, use the average of February 28th and March 1st (Leap-days in non-leap-years will be removed below anyways)\n",
    "curMean.loc[:,(2,29)] = (curMean.loc[:,(2,28)] + curMean.loc[:,(3,1)])/2\n",
    "curStd.loc[:,(2,29)] = (curStd.loc[:,(2,28)] + curStd.loc[:,(3,1)])/2\n",
    "\n",
    "\n",
    "# fig,ax = plt.subplots()\n",
    "# ax.plot()\n",
    "curPivot"
   ]
  },
  {
   "cell_type": "code",
   "execution_count": null,
   "metadata": {},
   "outputs": [],
   "source": [
    "\n",
    "# pdSeries = df.Base\n",
    "# curFrame = pdSeries.to_frame()\n",
    "# curFrame['Year'] = curFrame.index.year \n",
    "# curFrame['Month'] = curFrame.index.month\n",
    "# curFrame['Day'] = curFrame.index.day\n",
    "# curFrame['Week'] = curFrame.index.isocalendar()\n",
    "# # curFrame.pivot_table(values=pdSeries.name,index=['Month','Day'],columns='Year')\n",
    "# # curPivot = curFrame.pivot_table(values=pdSeries.name,columns=['Month','Day'],index='Year')\n",
    "# # curPivot\n",
    "# curFrame"
   ]
  },
  {
   "cell_type": "code",
   "execution_count": null,
   "metadata": {},
   "outputs": [],
   "source": [
    "pdSeries = df.Base\n",
    "\n",
    "\n",
    "isoCal = pdSeries.index.isocalendar()\n",
    "\n",
    "\n",
    "curFrame = pdSeries.to_frame().join(isoCal)\n",
    "curFrameWeek = curFrame.groupby([curFrame.year,curFrame.week]).sum().drop(columns='day')\n",
    "curPivot = curFrameWeek.pivot_table(pdSeries.name,index='year',columns='week')\n",
    "\n",
    "\n",
    "# Calculate sum of surrounding years and current year\n",
    "curSum = curPivot.rolling(window=(numYears*2)+1,center=True).sum()\n",
    "# Calculate mean of surrounding years by subtracting the current year and dividing by the number of surrounding years\n",
    "curMean = (curSum - curPivot)/(numYears*2)\n",
    "\n",
    "# Calculate the sum of squares of surrounding years and current year\n",
    "curSumSqr = curPivot.pow(2).rolling(window=(numYears*2)+1,center=True).sum()\n",
    "curMeanSqr = (curSumSqr - curPivot.pow(2))/(numYears*2)\n",
    "\n",
    "# Calculate emperical standard deviation \n",
    "curStd = (curMeanSqr - curMean.pow(2)).pow(0.5)\n",
    "\n",
    "\n",
    "# Reshape pivottables into series\n",
    "curMean = curMean.reset_index().melt(id_vars='year') # Melt pivottable\n",
    "curMean['Date'] = pd.to_datetime(curMean.year.astype(str)+'-'+curMean.week.astype(str).str.zfill(2)+'-1',format='%G-%V-%w') # Determine date from year and week number\n",
    "curMean = curMean.sort_values('Date').set_index('Date').drop(columns=['year','week']).rename(columns={'value':'Baseline'}).iloc[:,0] # Sort by date and drop extra columns\n",
    "curStd = curStd.reset_index().melt(id_vars='year') # Melt pivottable\n",
    "curStd['Date'] = pd.to_datetime(curStd.year.astype(str)+'-'+curStd.week.astype(str).str.zfill(2)+'-1',format='%G-%V-%w') # Determine date from year and week number\n",
    "curStd = curStd.sort_values('Date').set_index('Date').drop(columns=['year','week']).rename(columns={'value':'StandardDeviation'}).iloc[:,0] # Sort by date and drop extra columns"
   ]
  },
  {
   "cell_type": "code",
   "execution_count": null,
   "metadata": {},
   "outputs": [],
   "source": []
  },
  {
   "cell_type": "code",
   "execution_count": null,
   "metadata": {},
   "outputs": [],
   "source": [
    "fig,ax = plt.subplots()\n",
    "ax.plot(curMean)"
   ]
  },
  {
   "cell_type": "code",
   "execution_count": null,
   "metadata": {},
   "outputs": [],
   "source": [
    "# curMean.year.astype(str)+'-'+curMean.week.astype(str).str.zfill(2)+'-1'"
   ]
  },
  {
   "cell_type": "code",
   "execution_count": null,
   "metadata": {},
   "outputs": [],
   "source": [
    "# pd.to_datetime('1889-53-1',format='%G-%V-%w')"
   ]
  },
  {
   "cell_type": "code",
   "execution_count": null,
   "metadata": {},
   "outputs": [],
   "source": [
    "curMean"
   ]
  },
  {
   "cell_type": "code",
   "execution_count": null,
   "metadata": {},
   "outputs": [],
   "source": [
    "curData = df.Base4 \n",
    "curData = df.Base4.rolling(window=7,center=True).mean()\n",
    "curMean,curStd = emf.rnMean(curData,timeResolution='Day')"
   ]
  },
  {
   "cell_type": "code",
   "execution_count": null,
   "metadata": {},
   "outputs": [],
   "source": [
    "\n",
    "# fig,ax = plt.subplots()\n",
    "# ax.plot(curMean)\n",
    "# ax.plot(curData,'.')\n",
    "\n",
    "fig,(ax,ax2,ax3) = plt.subplots(3,1,figsize=(10,6),sharex=True)\n",
    "ax.plot(curMean,color='k')\n",
    "ax.fill_between(x=curMean.index,y1=curMean-3*curStd,y2=curMean+3*curStd,color='xkcd:light gray')\n",
    "ax.fill_between(x=curMean.index,y1=curMean-2*curStd,y2=curMean+2*curStd,color='xkcd:gray')\n",
    "ax.fill_between(x=curMean.index,y1=curMean-curStd,y2=curMean+curStd,color='xkcd:dark gray')\n",
    "ax.plot(curData,'.-',lw=0.5)\n",
    "# ax.plot(curMean2)\n",
    "ax2.axhline(0,color='k')\n",
    "ax2.plot(curData-curMean,'.-',lw=0.5)\n",
    "\n",
    "ax3.plot((curData-curMean).cumsum())\n",
    "\n",
    "fig.tight_layout()\n"
   ]
  },
  {
   "cell_type": "code",
   "execution_count": null,
   "metadata": {},
   "outputs": [],
   "source": [
    "numYears = 5\n",
    "\n",
    "pdSeries = df.Base\n",
    "curFrame = pdSeries.to_frame()\n",
    "curFrame['Year'] = curFrame.index.year \n",
    "curFrame['Month'] = curFrame.index.month\n",
    "curFrame['Day'] = curFrame.index.day\n",
    "# curFrame.pivot_table(values=pdSeries.name,index=['Month','Day'],columns='Year')\n",
    "curPivot = curFrame.pivot_table(values=pdSeries.name,columns=['Month','Day'],index='Year')\n",
    "curPivot\n",
    "\n",
    "# Calculate sum of surrounding years and current year\n",
    "curSum = curPivot.rolling(window=(numYears*2)+1,center=True).sum()\n",
    "# Calculate mean of surrounding years by subtracting the current year and dividing by the number of surrounding years\n",
    "curMean = (curSum - curPivot)/(numYears*2)\n",
    "\n",
    "# Calculate the sum of squares of surrounding years and current year\n",
    "curSumSqr = curPivot.pow(2).rolling(window=(numYears*2)+1,center=True).sum()\n",
    "curMeanSqr = (curSumSqr - curPivot.pow(2))/(numYears*2)\n",
    "\n",
    "# Calculate emperical standard deviation \n",
    "curStd = (curMeanSqr - curMean.pow(2)).pow(0.5)\n",
    "\n",
    "curMean.iloc[:,50:]\n",
    "\n",
    "\n",
    "# # Reshape pivottables into series\n",
    "# curMean = curMean.reset_index().melt(id_vars='Year') # Melt pivottable\n",
    "# curMean['Date'] = pd.to_datetime(dict(year=curMean.Year,month=curMean.Month,day=curMean.Day),errors='coerce') # Make a date-columns (coerce \"false\" leap-days to NaT, i.e. in non-leap years)\n",
    "# curMean = curMean.sort_values('Date').set_index('Date').drop(columns=['Year','Month','Day']).rename(columns={'value':'Baseline'}).iloc[:,0] # Sort by date and drop extra columns\n",
    "# curMean = curMean.loc[curMean.index.notna()] # Remove invalid dates (leap-days in not leap-years)\n",
    "# # curStd = curStd.reset_index().melt(id_vars='Year')\n",
    "# # curStd['Date'] = pd.to_datetime(dict(year=curStd.Year,month=curStd.Month,day=np.ones(len(curStd.Year))))\n",
    "# # curStd = curStd.sort_values('Date').set_index('Date').drop(columns=['Year','Month']).rename(columns={'value':'StandardDeviation'}).iloc[:,0]\n",
    "\n",
    "# # curMean = curMean[~(curMean.Day == 29) & (curMean.Month == 2)] \n",
    "\n",
    "curMean.loc[:,(2,29)] = (curMean.loc[:,(2,28)] + curMean.loc[:,(3,1)])/2\n",
    "curMean.iloc[:,55:]"
   ]
  },
  {
   "cell_type": "code",
   "execution_count": null,
   "metadata": {},
   "outputs": [],
   "source": [
    "df.groupby(pd.Grouper(freq='1M')).sum()\n",
    "dfMonth = df.groupby([df.index.year.rename('Year'),df.index.month.rename('Month')]).sum()\n",
    "dfMonth\n"
   ]
  },
  {
   "cell_type": "code",
   "execution_count": null,
   "metadata": {},
   "outputs": [],
   "source": [
    "\n",
    "# curTest  = df.Base\n",
    "\n",
    "# # # # Start by grouping data by month, in case its daily\n",
    "# curTest = curTest.groupby([curTest.index.year.rename('Year'),curTest.index.month.rename('Month')]).sum()\n",
    "# curTest = curTest.reset_index()\n",
    "# # # curTest = curTest.reset_index().melt(id_vars='Year')\n",
    "# curTest['Date'] = pd.to_datetime(dict(year=curTest.Year,month=curTest.Month,day=np.ones(len(curTest.Year))))\n",
    "# # curTest = curTest.sort_values('Date').set_index('Date').drop(columns=['Year','Month']).rename(columns={'Base':'Baseline'})\n",
    "\n",
    "# curTest = curTest.drop(columns=['Year','Month']).set_index('Date')\n",
    "# curTest = curTest.iloc[:,0]"
   ]
  },
  {
   "cell_type": "code",
   "execution_count": null,
   "metadata": {},
   "outputs": [],
   "source": [
    "# curData-curMean\n",
    "# curData \n"
   ]
  },
  {
   "cell_type": "code",
   "execution_count": null,
   "metadata": {},
   "outputs": [],
   "source": [
    "pdSeries = df.Base\n",
    "serMonth = pdSeries.groupby([pdSeries.index.year.rename('Year'),pdSeries.index.month.rename('Month')]).sum()\n",
    "serMonth"
   ]
  },
  {
   "cell_type": "code",
   "execution_count": null,
   "metadata": {},
   "outputs": [],
   "source": [
    "pdSeries = df.Base2\n",
    "serYear = pdSeries.groupby(pdSeries.index.year.rename('Year')).sum()\n",
    "serYear.rolling(window=7).sum()\n",
    "\n",
    "numYears = 5\n",
    "# Calculate sum of surrounding years and current year\n",
    "curSum = serYear.rolling(window=(numYears*2)+1,center=True).sum()\n",
    "# Calculate mean of surrounding years by subtracting the current year and dividing by the number of surrounding years\n",
    "curMean = (curSum - serYear)/(numYears*2)\n",
    "\n",
    "# Calculate the sum of squares of surrounding years and current year\n",
    "curSumSqr = serYear.pow(2).rolling(window=(numYears*2)+1,center=True).sum()\n",
    "curMeanSqr = (curSumSqr - serYear.pow(2))/(numYears*2)\n",
    "\n",
    "# Calculate emperical standard deviation \n",
    "curStd = (curMeanSqr - curMean.pow(2)).pow(0.5)\n",
    "\n",
    "curData = emf.groupByYear(pdSeries)\n",
    "\n",
    "\n",
    "curMean = curMean.reset_index()\n",
    "curMean['Date'] = pd.to_datetime(dict(year=curMean.Year,month=np.ones(len(curMean.Year)),day=np.ones(len(curMean.Year))))\n",
    "curMean = curMean.sort_values('Date').set_index('Date').drop(columns=['Year']).rename(columns={'value':'Baseline'}).iloc[:,0]\n",
    "curMean\n",
    "# serYear"
   ]
  },
  {
   "cell_type": "code",
   "execution_count": null,
   "metadata": {},
   "outputs": [],
   "source": [
    "curMean\n",
    "\n",
    "curMean,curStd = emf.rnMean(df.Base2,timeResolution='Year')\n",
    "curData = emf.groupByYear(df.Base2)\n",
    "# curData\n",
    "# curMean\n",
    "# # curStd\n",
    "# # curMean - curData \n",
    "# curMean \n",
    "# curData.index"
   ]
  },
  {
   "cell_type": "code",
   "execution_count": null,
   "metadata": {},
   "outputs": [],
   "source": [
    "pdSeries.index[((curDates.month == 2) & (curDates.day == 29))]"
   ]
  },
  {
   "cell_type": "code",
   "execution_count": null,
   "metadata": {},
   "outputs": [],
   "source": [
    "pdSeries = df.Base\n",
    "curDates = pdSeries.index\n",
    "nonLeapDay = ~((curDates.month == 2) & (curDates.day == 29))\n",
    "pdSeries.loc[nonLeapDay]\n",
    "\n",
    "fig,ax = plt.subplots()\n",
    "pdSeries.loc[nonLeapDay].plot(ax=ax)\n",
    "ax.plot(pdSeries.loc[nonLeapDay],'.')"
   ]
  },
  {
   "cell_type": "code",
   "execution_count": null,
   "metadata": {},
   "outputs": [],
   "source": [
    "\n",
    "curData = emf.groupByYear(df.Base3)\n",
    "curMean,curStd = emf.rnMean(curData,timeResolution='Year')\n",
    "\n",
    "fig,(ax,ax2,ax3) = plt.subplots(3,1,figsize=(10,6))\n",
    "ax.plot(curMean,color='k')\n",
    "ax.fill_between(x=curMean.index,y1=curMean-3*curStd,y2=curMean+3*curStd,color='xkcd:light gray')\n",
    "ax.fill_between(x=curMean.index,y1=curMean-2*curStd,y2=curMean+2*curStd,color='xkcd:gray')\n",
    "ax.fill_between(x=curMean.index,y1=curMean-curStd,y2=curMean+curStd,color='xkcd:dark gray')\n",
    "ax.plot(curData)\n",
    "# ax.plot(curMean2)\n",
    "ax2.axhline(0,color='k')\n",
    "ax2.plot(curData-curMean)\n",
    "\n",
    "ax3.plot((curData-curMean).cumsum())\n",
    "\n",
    "fig.tight_layout()"
   ]
  },
  {
   "cell_type": "code",
   "execution_count": null,
   "metadata": {},
   "outputs": [],
   "source": [
    "# curData = df['Base']\n",
    "curData = emf.groupByMonth(df['Base4'])\n",
    "curMean,curStd = emf.rnMean(curData)\n",
    "# curMean2,curStd2 = emf.rnMean(curData)\n",
    "\n",
    "%matplotlib widget\n",
    "fig,(ax,ax2,ax3) = plt.subplots(3,1,figsize=(10,6))\n",
    "ax.plot(curMean,color='k')\n",
    "ax.fill_between(x=curMean.index,y1=curMean-3*curStd,y2=curMean+3*curStd,color='xkcd:light gray')\n",
    "ax.fill_between(x=curMean.index,y1=curMean-2*curStd,y2=curMean+2*curStd,color='xkcd:gray')\n",
    "ax.fill_between(x=curMean.index,y1=curMean-curStd,y2=curMean+curStd,color='xkcd:dark gray')\n",
    "ax.plot(curData)\n",
    "# ax.plot(curMean2)\n",
    "ax2.axhline(0,color='k')\n",
    "ax2.plot(curData-curMean)\n",
    "\n",
    "ax3.plot((curData-curMean).cumsum())\n",
    "\n",
    "fig.tight_layout()\n",
    "\n",
    "# # curMean.melt(id_vars=['index'])\n",
    "# curMean = curMean.reset_index().melt(id_vars='Year')\n",
    "# curMean['Date'] = pd.to_datetime(dict(year=curMean.Year,month=curMean.Month,day=np.ones(len(curMean.Year))))\n",
    "\n",
    "# curMean.sort_values('Date').set_index('Date').drop(columns=['Year','Month']).rename(columns={'value':'Baseline'})"
   ]
  },
  {
   "cell_type": "code",
   "execution_count": null,
   "metadata": {},
   "outputs": [],
   "source": [
    "pdSeries = df.Base \n",
    "numYears = 5 \n",
    "\n",
    "# Start by grouping data by month, in case its daily\n",
    "serMonth = pdSeries.groupby([pdSeries.index.year.rename('Year'),pdSeries.index.month.rename('Month')]).sum()\n",
    "\n",
    "# Organize as pivot table\n",
    "curPivot = serMonth.to_frame().pivot_table('Base',index='Year',columns='Month')\n",
    "\n",
    "# Calculate sum of surrounding years and current year\n",
    "curSum = curPivot.rolling(window=(numYears*2)+1,center=True).sum()\n",
    "# Calculate mean of surrounding years by subtracting the current year and dividing by the number of surrounding years\n",
    "curMean = (curSum - curPivot)/(numYears*2)\n",
    "\n",
    "# Calculate the sum of squares of surrounding years and current year\n",
    "curSumSqr = curPivot.pow(2).rolling(window=(numYears*2)+1,center=True).sum()\n",
    "curMeanSqr = (curSumSqr - curPivot.pow(2))/(numYears*2)\n",
    "\n",
    "# Calculate emperical standard deviation \n",
    "curStd = (curMeanSqr - curMean.pow(2)).pow(0.5)"
   ]
  },
  {
   "cell_type": "code",
   "execution_count": null,
   "metadata": {},
   "outputs": [],
   "source": [
    "# curMean.T.plot()\n"
   ]
  },
  {
   "cell_type": "code",
   "execution_count": null,
   "metadata": {},
   "outputs": [],
   "source": [
    "\n",
    "# # dfMonth.loc[1850:1852]\n",
    "\n",
    "# curSeries = df['Base']\n",
    "# serMonth = curSeries.groupby([curSeries.index.year.rename('Year'),curSeries.index.month.rename('Month')]).sum()\n",
    "# # serMonth.pivot_table('Base',index='Year',columns='Month')\n",
    "# curPivot = serMonth.to_frame().pivot_table('Base',index='Year',columns='Month')\n",
    "\n",
    "# numYears = 2\n",
    "# (curPivot.rolling(window=(numYears*2)+1,center=True).sum() - curPivot)/(numYears*2)\n",
    "\n",
    "# curMean,curStd = emf.rnMean(df['Base'])\n",
    "# curStd\n",
    "pdSeries = df['Base']\n",
    "numYears = 5\n",
    "\n",
    "# Start by grouping data by month, in case its daily\n",
    "serMonth = pdSeries.groupby([pdSeries.index.year.rename('Year'),pdSeries.index.month.rename('Month')]).sum()\n",
    "\n",
    "# Organize as pivot table\n",
    "curPivot = serMonth.to_frame().pivot_table('Base',index='Year',columns='Month')\n",
    "\n",
    "# Calculate sum of surrounding years and current year\n",
    "curSum = curPivot.rolling(window=(numYears*2)+1,center=True).sum()\n",
    "# Calculate mean of surrounding years by subtracting the current year and dividing by the number of surrounding years\n",
    "curMean = (curSum - curPivot)/(numYears*2)\n",
    "\n",
    "# Calculate the sum of squares of surrounding years and current year\n",
    "curSumSqr = curPivot.pow(2).rolling(window=(numYears*2)+1,center=True).sum()\n",
    "curMeanSqr = (curSumSqr - curPivot.pow(2))/(numYears*2)\n",
    "\n",
    "# Calculate emperical standard deviation \n",
    "curStd = (curMeanSqr - curMean.pow(2)).pow(0.5)\n",
    "\n",
    "# curBase = (curPivot.rolling(window=(2*numYears)+1,center=True).sum() - curPivot)/(2*numYears)\n",
    "# curBase2 = (curPivot.pow(2).rolling(window=(numYears*2)+1,center=True).sum() - curPivot.pow(2))/(numYears*2)\n",
    "\n",
    "\n",
    "# curBase2 - curBase.pow(2)\n",
    "# # curBase2.loc[1860]\n",
    "# # curMeanSqr.loc[1860]\n",
    "# # curMeanSqr.pow(0.5)\n",
    "# # curPivot.pow(2)\n",
    "# # curSumSqr\n",
    "# # curBase \n",
    "# # curBase2\n",
    "curStd"
   ]
  },
  {
   "cell_type": "code",
   "execution_count": null,
   "metadata": {},
   "outputs": [],
   "source": [
    "\n",
    "# dfMonth.loc[1850:1860]\n",
    "# dfMonth.xs(12,level=1).pivot_table('Base')\n",
    "# dfMonth.pivot('Base')\n",
    "# dfMonth.unstack()\n",
    "\n",
    "curPivot = dfMonth.pivot_table('Base',index='Year',columns='Month')\n",
    "# dfMonth.pivot_table('Base',index='Month',columns='Year')\n",
    "\n",
    "\n",
    "curPivot = curPivot.iloc[:11,:]\n",
    "\n",
    "# curPivot.rolling(window=numYears)"
   ]
  },
  {
   "cell_type": "code",
   "execution_count": null,
   "metadata": {},
   "outputs": [],
   "source": [
    "\n",
    "numYears = 2\n",
    "(curPivot.rolling(window=(numYears*2)+1,center=True).sum() - curPivot)/(numYears*2)"
   ]
  },
  {
   "cell_type": "code",
   "execution_count": null,
   "metadata": {},
   "outputs": [],
   "source": []
  }
 ],
 "metadata": {
  "kernelspec": {
   "display_name": "Python 3.10.0 ('main')",
   "language": "python",
   "name": "python3"
  },
  "language_info": {
   "codemirror_mode": {
    "name": "ipython",
    "version": 3
   },
   "file_extension": ".py",
   "mimetype": "text/x-python",
   "name": "python",
   "nbconvert_exporter": "python",
   "pygments_lexer": "ipython3",
   "version": "3.10.0"
  },
  "orig_nbformat": 4,
  "vscode": {
   "interpreter": {
    "hash": "1231565b209786dac476dcddb6c851658cee15112262a0f5b5be5fa490b6ca1c"
   }
  }
 },
 "nbformat": 4,
 "nbformat_minor": 2
}
